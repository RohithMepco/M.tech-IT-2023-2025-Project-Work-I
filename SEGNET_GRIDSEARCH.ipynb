{
  "cells": [
    {
      "cell_type": "code",
      "execution_count": 1,
      "metadata": {
        "colab": {
          "base_uri": "https://localhost:8080/"
        },
        "id": "iL_KSJJFvc-u",
        "outputId": "db8be548-b293-4d48-8d43-60c8d03244f7"
      },
      "outputs": [
        {
          "name": "stdout",
          "output_type": "stream",
          "text": [
            "Drive not mounted, so nothing to flush and unmount.\n",
            "Mounted at /content/drive\n"
          ]
        }
      ],
      "source": [
        "from google.colab import drive\n",
        "drive.flush_and_unmount()\n",
        "!rm -rf /content/drive/*\n",
        "drive.mount('/content/drive')\n"
      ]
    },
    {
      "cell_type": "code",
      "execution_count": 2,
      "metadata": {
        "id": "yvS-2nBdvb90"
      },
      "outputs": [],
      "source": [
        "import os\n",
        "import numpy as np\n",
        "import cv2\n",
        "import tensorflow as tf\n",
        "from sklearn.model_selection import train_test_split\n",
        "from sklearn.model_selection import RandomizedSearchCV\n",
        "from tensorflow.keras.callbacks import EarlyStopping\n",
        "from tensorflow.keras.layers import Input, Conv2D, UpSampling2D, concatenate\n",
        "from tensorflow.keras.models import Model\n",
        "from tensorflow.keras import layers\n",
        "from tensorflow.keras.optimizers import Adam\n",
        "from tensorflow.keras import backend as K\n",
        "\n",
        "\n"
      ]
    },
    {
      "cell_type": "code",
      "execution_count": 3,
      "metadata": {
        "colab": {
          "base_uri": "https://localhost:8080/"
        },
        "id": "K9uvdGr1vl6-",
        "outputId": "94efdf19-2128-43ed-a1b2-d02b84bd51c1"
      },
      "outputs": [
        {
          "name": "stdout",
          "output_type": "stream",
          "text": [
            "Loaded 1800 images from /content/drive/MyDrive/Kaggle_data/benign\n",
            "Loaded 1505 images from /content/drive/MyDrive/Kaggle_data/malignant\n",
            "Total images loaded: 3305\n"
          ]
        }
      ],
      "source": [
        "# Function to load all images from a folder\n",
        "def load_images_from_folder(folder, img_size=(128, 128)):\n",
        "    images = []\n",
        "    for filename in os.listdir(folder):\n",
        "        img_path = os.path.join(folder, filename)\n",
        "        img = cv2.imread(img_path)\n",
        "        if img is not None:\n",
        "            img = cv2.resize(img, img_size)\n",
        "\n",
        "            # Convert to grayscale if needed (optional)\n",
        "            # img = cv2.cvtColor(img, cv2.COLOR_BGR2GRAY)\n",
        "\n",
        "            # Ensure the image has the right shape (H, W, C)\n",
        "            if len(img.shape) == 3:  # Color image\n",
        "                images.append(img)\n",
        "            elif len(img.shape) == 2:  # Grayscale image\n",
        "                images.append(np.expand_dims(img, axis=-1))  # Add channel dimension\n",
        "            else:\n",
        "                print(f\"Skipping {filename}: Unsupported image shape {img.shape}\")\n",
        "\n",
        "    print(f\"Loaded {len(images)} images from {folder}\")\n",
        "    return np.array(images)\n",
        "\n",
        "# Paths to the benign and malignant directories\n",
        "benign_dir = \"/content/drive/MyDrive/Kaggle_data/benign\"\n",
        "malignant_dir = \"/content/drive/MyDrive/Kaggle_data/malignant\"\n",
        "\n",
        "# Load images from benign and malignant folders\n",
        "benign_images = load_images_from_folder(benign_dir)\n",
        "malignant_images = load_images_from_folder(malignant_dir)\n",
        "\n",
        "# Combine the images\n",
        "images = np.concatenate((benign_images, malignant_images), axis=0)\n",
        "\n",
        "# Normalize images (0-1)\n",
        "images = images.astype(np.float32) / 255.0  # Ensure correct dtype for normalization\n",
        "\n",
        "# Shuffle images\n",
        "np.random.shuffle(images)\n",
        "\n",
        "print(f\"Total images loaded: {images.shape[0]}\")"
      ]
    },
    {
      "cell_type": "code",
      "execution_count": 4,
      "metadata": {
        "id": "PF0HrEwIHVRQ"
      },
      "outputs": [],
      "source": [
        "benign_images = benign_images.astype(np.float32) / 255.0\n",
        "malignant_images = malignant_images.astype(np.float32) / 255.0"
      ]
    },
    {
      "cell_type": "code",
      "execution_count": 5,
      "metadata": {
        "colab": {
          "base_uri": "https://localhost:8080/"
        },
        "id": "AamOVauuv2xY",
        "outputId": "dd09cdf5-d11d-4c0c-958c-eefe21287813"
      },
      "outputs": [
        {
          "name": "stdout",
          "output_type": "stream",
          "text": [
            "Training images shape: (2644, 128, 128, 3), Training masks shape: (2644, 128, 128, 1)\n",
            "Validation images shape: (661, 128, 128, 3), Validation masks shape: (661, 128, 128, 1)\n"
          ]
        }
      ],
      "source": [
        "# Function to generate distinct synthetic masks for benign and malignant images\n",
        "def generate_synthetic_masks(benign_images, malignant_images, threshold=128):\n",
        "    masks = []\n",
        "\n",
        "    # Generate benign masks (diffused or low-intensity masks)\n",
        "    for image in benign_images:\n",
        "        image_uint8 = (image * 255).astype(np.uint8)\n",
        "        gray_image = cv2.cvtColor(image_uint8, cv2.COLOR_BGR2GRAY)\n",
        "        _, mask = cv2.threshold(gray_image, threshold - 30, 255, cv2.THRESH_BINARY)  # Lower threshold for benign\n",
        "        mask = cv2.GaussianBlur(mask, (15, 15), 0)  # Diffuse edges for benign images\n",
        "        mask = cv2.resize(mask, (128, 128))\n",
        "        masks.append(mask / 255.0)\n",
        "\n",
        "    # Generate malignant masks (higher intensity, more focused regions)\n",
        "    for image in malignant_images:\n",
        "        image_uint8 = (image * 255).astype(np.uint8)\n",
        "        gray_image = cv2.cvtColor(image_uint8, cv2.COLOR_BGR2GRAY)\n",
        "        _, mask = cv2.threshold(gray_image, threshold + 30, 255, cv2.THRESH_BINARY)  # Higher threshold for malignant\n",
        "        mask = cv2.morphologyEx(mask, cv2.MORPH_CLOSE, np.ones((5, 5), np.uint8))  # Enhance edges for malignant\n",
        "        mask = cv2.resize(mask, (128, 128))\n",
        "        masks.append(mask / 255.0)\n",
        "\n",
        "    return np.array(masks).reshape(-1, 128, 128, 1)\n",
        "\n",
        "# Generate synthetic masks for the benign and malignant images\n",
        "lesion_masks = generate_synthetic_masks(benign_images, malignant_images)\n",
        "\n",
        "# Combine benign and malignant images for final dataset\n",
        "images = np.concatenate((benign_images, malignant_images), axis=0)\n",
        "\n",
        "# Shuffle images and masks together\n",
        "shuffled_indices = np.random.permutation(len(images))\n",
        "images = images[shuffled_indices]\n",
        "lesion_masks = lesion_masks[shuffled_indices]\n",
        "\n",
        "# Split the dataset into training and validation sets\n",
        "X_train, X_val, y_train, y_val = train_test_split(images, lesion_masks, test_size=0.2, random_state=42)\n",
        "\n",
        "# Print shapes of training and validation datasets\n",
        "print(f\"Training images shape: {X_train.shape}, Training masks shape: {y_train.shape}\")\n",
        "print(f\"Validation images shape: {X_val.shape}, Validation masks shape: {y_val.shape}\")"
      ]
    },
    {
      "cell_type": "code",
      "execution_count": 12,
      "metadata": {
        "id": "wg1vNiRev5Wl"
      },
      "outputs": [],
      "source": [
        "import numpy as np\n",
        "from sklearn.metrics import adjusted_rand_score, cohen_kappa_score\n",
        "\n",
        "def jaccard_coef(y_true, y_pred, smooth=1e-10, threshold=0.5):\n",
        "    \"\"\"\n",
        "    Calculate the Jaccard coefficient (Intersection over Union).\n",
        "\n",
        "    Parameters:\n",
        "    - y_true: Ground truth binary mask.\n",
        "    - y_pred: Predicted binary mask.\n",
        "    - smooth: Smoothing factor to avoid division by zero.\n",
        "    - threshold: Threshold to convert predictions to binary.\n",
        "\n",
        "    Returns:\n",
        "    - Jaccard coefficient value.\n",
        "    \"\"\"\n",
        "    y_true = np.array(y_true)\n",
        "    y_pred = np.array(y_pred)\n",
        "\n",
        "    # Apply threshold to convert predictions to binary\n",
        "    y_pred = (y_pred > threshold).astype(int)\n",
        "\n",
        "    # Flatten the arrays\n",
        "    y_true_f = y_true.flatten()\n",
        "    y_pred_f = y_pred.flatten()\n",
        "\n",
        "    # Calculate intersection and union\n",
        "    intersection = np.sum(y_true_f * y_pred_f)\n",
        "    union = np.sum(y_true_f) + np.sum(y_pred_f) - intersection\n",
        "\n",
        "    # Calculate the Jaccard coefficient (IoU)\n",
        "    jac = (intersection + smooth) / (union + smooth)\n",
        "    return jac\n",
        "\n",
        "\n",
        "def dice_coef(y_true, y_pred, smooth=1e-10, threshold=0.5):\n",
        "    \"\"\"\n",
        "    Calculate the Dice coefficient.\n",
        "\n",
        "    Parameters:\n",
        "    - y_true: Ground truth binary mask.\n",
        "    - y_pred: Predicted binary mask.\n",
        "    - smooth: Smoothing factor to avoid division by zero.\n",
        "    - threshold: Threshold to convert predictions to binary.\n",
        "\n",
        "    Returns:\n",
        "    - Dice coefficient value.\n",
        "    \"\"\"\n",
        "    y_true = np.array(y_true)\n",
        "    y_pred = np.array(y_pred)\n",
        "\n",
        "    # Apply threshold to convert predictions to binary\n",
        "    y_pred = (y_pred > threshold).astype(int)\n",
        "\n",
        "    # Flatten the arrays\n",
        "    y_true_f = y_true.flatten()\n",
        "    y_pred_f = y_pred.flatten()\n",
        "\n",
        "    # Calculate intersection and sums\n",
        "    intersection = np.sum(y_true_f * y_pred_f)\n",
        "    sum_y_true = np.sum(y_true_f)\n",
        "    sum_y_pred = np.sum(y_pred_f)\n",
        "\n",
        "    # Calculate the Dice coefficient\n",
        "    dice = (2. * intersection + smooth) / (sum_y_true + sum_y_pred + smooth)\n",
        "    return dice\n",
        "\n",
        "\n",
        "def rand_index(y_true, y_pred):\n",
        "    \"\"\"\n",
        "    Calculate the Adjusted Rand Index.\n",
        "\n",
        "    Parameters:\n",
        "    - y_true: Ground truth binary mask.\n",
        "    - y_pred: Predicted binary mask.\n",
        "\n",
        "    Returns:\n",
        "    - Adjusted Rand Index value.\n",
        "    \"\"\"\n",
        "    y_true = np.array(y_true).flatten()\n",
        "    y_pred = np.array(y_pred).flatten()\n",
        "    y_pred = (y_pred > 0.5).astype(int)\n",
        "\n",
        "    # Calculate Adjusted Rand Index using scikit-learn\n",
        "    ari = adjusted_rand_score(y_true, y_pred)\n",
        "    return ari\n",
        "\n",
        "import numpy as np\n",
        "from sklearn.metrics import cohen_kappa_score\n",
        "\n",
        "def cohen_kappa(y_true, y_pred, threshold=0.5):\n",
        "    \"\"\"\n",
        "    Calculate Cohen's Kappa score.\n",
        "\n",
        "    Parameters:\n",
        "    - y_true: Ground truth binary mask.\n",
        "    - y_pred: Predicted binary mask.\n",
        "    - threshold: Threshold to convert predictions to binary.\n",
        "\n",
        "    Returns:\n",
        "    - Cohen's Kappa score value.\n",
        "    \"\"\"\n",
        "    # Convert both y_true and y_pred to binary\n",
        "    y_true = (np.array(y_true).flatten() > threshold).astype(int)\n",
        "    y_pred = (np.array(y_pred).flatten() > threshold).astype(int)\n",
        "\n",
        "    # Calculate Cohen's Kappa using scikit-learn\n",
        "    kappa = cohen_kappa_score(y_true, y_pred)\n",
        "    return kappa\n",
        "\n"
      ]
    },
    {
      "cell_type": "code",
      "execution_count": 7,
      "metadata": {
        "id": "z1driY9yv7OB"
      },
      "outputs": [],
      "source": [
        "def segnet(input_shape, num_filters=64):\n",
        "    inputs = layers.Input(shape=input_shape)\n",
        "\n",
        "    # Encoder\n",
        "    c1 = layers.Conv2D(num_filters, (3, 3), activation='relu', padding='same')(inputs)\n",
        "    c1 = layers.Conv2D(num_filters, (3, 3), activation='relu', padding='same')(c1)\n",
        "    p1 = layers.MaxPooling2D((2, 2))(c1)\n",
        "\n",
        "    c2 = layers.Conv2D(num_filters * 2, (3, 3), activation='relu', padding='same')(p1)\n",
        "    c2 = layers.Conv2D(num_filters * 2, (3, 3), activation='relu', padding='same')(c2)\n",
        "    p2 = layers.MaxPooling2D((2, 2))(c2)\n",
        "\n",
        "    c3 = layers.Conv2D(num_filters * 4, (3, 3), activation='relu', padding='same')(p2)\n",
        "    c3 = layers.Conv2D(num_filters * 4, (3, 3), activation='relu', padding='same')(c3)\n",
        "    p3 = layers.MaxPooling2D((2, 2))(c3)\n",
        "\n",
        "    c4 = layers.Conv2D(num_filters * 8, (3, 3), activation='relu', padding='same')(p3)\n",
        "    c4 = layers.Conv2D(num_filters * 8, (3, 3), activation='relu', padding='same')(c4)\n",
        "    p4 = layers.MaxPooling2D((2, 2))(c4)\n",
        "\n",
        "    # Bottleneck\n",
        "    c5 = layers.Conv2D(num_filters * 8, (3, 3), activation='relu', padding='same')(p4)\n",
        "\n",
        "    # Decoder\n",
        "    u1 = layers.UpSampling2D((2, 2))(c5)\n",
        "    u1 = layers.Conv2D(num_filters * 8, (3, 3), activation='relu', padding='same')(u1)\n",
        "    u1 = layers.Concatenate()([u1, c4])\n",
        "\n",
        "    u2 = layers.UpSampling2D((2, 2))(u1)\n",
        "    u2 = layers.Conv2D(num_filters * 4, (3, 3), activation='relu', padding='same')(u2)\n",
        "    u2 = layers.Concatenate()([u2, c3])\n",
        "\n",
        "    u3 = layers.UpSampling2D((2, 2))(u2)\n",
        "    u3 = layers.Conv2D(num_filters * 2, (3, 3), activation='relu', padding='same')(u3)\n",
        "    u3 = layers.Concatenate()([u3, c2])\n",
        "\n",
        "    u4 = layers.UpSampling2D((2, 2))(u3)\n",
        "    u4 = layers.Conv2D(num_filters, (3, 3), activation='relu', padding='same')(u4)\n",
        "    u4 = layers.Concatenate()([u4, c1])\n",
        "\n",
        "    outputs = layers.Conv2D(1, (1, 1), activation='sigmoid')(u4)\n",
        "\n",
        "    model = Model(inputs=[inputs], outputs=[outputs])\n",
        "    model.compile(optimizer='adam', loss='binary_crossentropy', metrics=['accuracy'])\n",
        "    return model\n"
      ]
    },
    {
      "cell_type": "code",
      "execution_count": 8,
      "metadata": {
        "colab": {
          "base_uri": "https://localhost:8080/"
        },
        "id": "j6_C7eocwCF8",
        "outputId": "76cc8bfb-4bfa-47f7-c924-35fea0efade8"
      },
      "outputs": [
        {
          "name": "stdout",
          "output_type": "stream",
          "text": [
            "Training with num_filters=32, epochs=20, batch_size=16\n",
            "Epoch 1/20\n",
            "\u001b[1m166/166\u001b[0m \u001b[32m━━━━━━━━━━━━━━━━━━━━\u001b[0m\u001b[37m\u001b[0m \u001b[1m48s\u001b[0m 155ms/step - accuracy: 0.6987 - loss: 0.4658 - val_accuracy: 0.7607 - val_loss: 0.3333\n",
            "Epoch 2/20\n",
            "\u001b[1m166/166\u001b[0m \u001b[32m━━━━━━━━━━━━━━━━━━━━\u001b[0m\u001b[37m\u001b[0m \u001b[1m50s\u001b[0m 67ms/step - accuracy: 0.7893 - loss: 0.3172 - val_accuracy: 0.8192 - val_loss: 0.2583\n",
            "Epoch 3/20\n",
            "\u001b[1m166/166\u001b[0m \u001b[32m━━━━━━━━━━━━━━━━━━━━\u001b[0m\u001b[37m\u001b[0m \u001b[1m20s\u001b[0m 65ms/step - accuracy: 0.8121 - loss: 0.2727 - val_accuracy: 0.8161 - val_loss: 0.2567\n",
            "Epoch 4/20\n",
            "\u001b[1m166/166\u001b[0m \u001b[32m━━━━━━━━━━━━━━━━━━━━\u001b[0m\u001b[37m\u001b[0m \u001b[1m20s\u001b[0m 65ms/step - accuracy: 0.8096 - loss: 0.2835 - val_accuracy: 0.8272 - val_loss: 0.2420\n",
            "Epoch 5/20\n",
            "\u001b[1m166/166\u001b[0m \u001b[32m━━━━━━━━━━━━━━━━━━━━\u001b[0m\u001b[37m\u001b[0m \u001b[1m11s\u001b[0m 65ms/step - accuracy: 0.8201 - loss: 0.2614 - val_accuracy: 0.8382 - val_loss: 0.2495\n",
            "Epoch 6/20\n",
            "\u001b[1m166/166\u001b[0m \u001b[32m━━━━━━━━━━━━━━━━━━━━\u001b[0m\u001b[37m\u001b[0m \u001b[1m12s\u001b[0m 71ms/step - accuracy: 0.8281 - loss: 0.2510 - val_accuracy: 0.8382 - val_loss: 0.2334\n",
            "Epoch 7/20\n",
            "\u001b[1m166/166\u001b[0m \u001b[32m━━━━━━━━━━━━━━━━━━━━\u001b[0m\u001b[37m\u001b[0m \u001b[1m12s\u001b[0m 69ms/step - accuracy: 0.8277 - loss: 0.2453 - val_accuracy: 0.7553 - val_loss: 0.4057\n",
            "Epoch 8/20\n",
            "\u001b[1m166/166\u001b[0m \u001b[32m━━━━━━━━━━━━━━━━━━━━\u001b[0m\u001b[37m\u001b[0m \u001b[1m20s\u001b[0m 66ms/step - accuracy: 0.8206 - loss: 0.2566 - val_accuracy: 0.8421 - val_loss: 0.2282\n",
            "Epoch 9/20\n",
            "\u001b[1m166/166\u001b[0m \u001b[32m━━━━━━━━━━━━━━━━━━━━\u001b[0m\u001b[37m\u001b[0m \u001b[1m20s\u001b[0m 66ms/step - accuracy: 0.8314 - loss: 0.2392 - val_accuracy: 0.8166 - val_loss: 0.2543\n",
            "Epoch 10/20\n",
            "\u001b[1m166/166\u001b[0m \u001b[32m━━━━━━━━━━━━━━━━━━━━\u001b[0m\u001b[37m\u001b[0m \u001b[1m20s\u001b[0m 66ms/step - accuracy: 0.8273 - loss: 0.2408 - val_accuracy: 0.8315 - val_loss: 0.2308\n",
            "Epoch 11/20\n",
            "\u001b[1m166/166\u001b[0m \u001b[32m━━━━━━━━━━━━━━━━━━━━\u001b[0m\u001b[37m\u001b[0m \u001b[1m21s\u001b[0m 67ms/step - accuracy: 0.8313 - loss: 0.2293 - val_accuracy: 0.8491 - val_loss: 0.2048\n",
            "Epoch 12/20\n",
            "\u001b[1m166/166\u001b[0m \u001b[32m━━━━━━━━━━━━━━━━━━━━\u001b[0m\u001b[37m\u001b[0m \u001b[1m12s\u001b[0m 70ms/step - accuracy: 0.8364 - loss: 0.2171 - val_accuracy: 0.8159 - val_loss: 0.2996\n",
            "Epoch 13/20\n",
            "\u001b[1m166/166\u001b[0m \u001b[32m━━━━━━━━━━━━━━━━━━━━\u001b[0m\u001b[37m\u001b[0m \u001b[1m21s\u001b[0m 72ms/step - accuracy: 0.8419 - loss: 0.2076 - val_accuracy: 0.8466 - val_loss: 0.1902\n",
            "Epoch 14/20\n",
            "\u001b[1m166/166\u001b[0m \u001b[32m━━━━━━━━━━━━━━━━━━━━\u001b[0m\u001b[37m\u001b[0m \u001b[1m12s\u001b[0m 72ms/step - accuracy: 0.8448 - loss: 0.1950 - val_accuracy: 0.8453 - val_loss: 0.2040\n",
            "Epoch 15/20\n",
            "\u001b[1m166/166\u001b[0m \u001b[32m━━━━━━━━━━━━━━━━━━━━\u001b[0m\u001b[37m\u001b[0m \u001b[1m20s\u001b[0m 69ms/step - accuracy: 0.8408 - loss: 0.1939 - val_accuracy: 0.8249 - val_loss: 0.2541\n",
            "Epoch 16/20\n",
            "\u001b[1m166/166\u001b[0m \u001b[32m━━━━━━━━━━━━━━━━━━━━\u001b[0m\u001b[37m\u001b[0m \u001b[1m20s\u001b[0m 68ms/step - accuracy: 0.8422 - loss: 0.1955 - val_accuracy: 0.8399 - val_loss: 0.2069\n",
            "Training with num_filters=32, epochs=20, batch_size=32\n",
            "Epoch 1/20\n",
            "\u001b[1m83/83\u001b[0m \u001b[32m━━━━━━━━━━━━━━━━━━━━\u001b[0m\u001b[37m\u001b[0m \u001b[1m64s\u001b[0m 473ms/step - accuracy: 0.6831 - loss: 0.5165 - val_accuracy: 0.7159 - val_loss: 0.4116\n",
            "Epoch 2/20\n",
            "\u001b[1m83/83\u001b[0m \u001b[32m━━━━━━━━━━━━━━━━━━━━\u001b[0m\u001b[37m\u001b[0m \u001b[1m33s\u001b[0m 137ms/step - accuracy: 0.7368 - loss: 0.3915 - val_accuracy: 0.7820 - val_loss: 0.3283\n",
            "Epoch 3/20\n",
            "\u001b[1m83/83\u001b[0m \u001b[32m━━━━━━━━━━━━━━━━━━━━\u001b[0m\u001b[37m\u001b[0m \u001b[1m21s\u001b[0m 138ms/step - accuracy: 0.8109 - loss: 0.2739 - val_accuracy: 0.8084 - val_loss: 0.2752\n",
            "Epoch 4/20\n",
            "\u001b[1m83/83\u001b[0m \u001b[32m━━━━━━━━━━━━━━━━━━━━\u001b[0m\u001b[37m\u001b[0m \u001b[1m20s\u001b[0m 138ms/step - accuracy: 0.8278 - loss: 0.2461 - val_accuracy: 0.8285 - val_loss: 0.2669\n",
            "Epoch 5/20\n",
            "\u001b[1m83/83\u001b[0m \u001b[32m━━━━━━━━━━━━━━━━━━━━\u001b[0m\u001b[37m\u001b[0m \u001b[1m20s\u001b[0m 131ms/step - accuracy: 0.8244 - loss: 0.2667 - val_accuracy: 0.8145 - val_loss: 0.2600\n",
            "Epoch 6/20\n",
            "\u001b[1m83/83\u001b[0m \u001b[32m━━━━━━━━━━━━━━━━━━━━\u001b[0m\u001b[37m\u001b[0m \u001b[1m20s\u001b[0m 130ms/step - accuracy: 0.8269 - loss: 0.2446 - val_accuracy: 0.8244 - val_loss: 0.2431\n",
            "Epoch 7/20\n",
            "\u001b[1m83/83\u001b[0m \u001b[32m━━━━━━━━━━━━━━━━━━━━\u001b[0m\u001b[37m\u001b[0m \u001b[1m11s\u001b[0m 138ms/step - accuracy: 0.8313 - loss: 0.2382 - val_accuracy: 0.8303 - val_loss: 0.2351\n",
            "Epoch 8/20\n",
            "\u001b[1m83/83\u001b[0m \u001b[32m━━━━━━━━━━━━━━━━━━━━\u001b[0m\u001b[37m\u001b[0m \u001b[1m20s\u001b[0m 137ms/step - accuracy: 0.8375 - loss: 0.2295 - val_accuracy: 0.8338 - val_loss: 0.2446\n",
            "Epoch 9/20\n",
            "\u001b[1m83/83\u001b[0m \u001b[32m━━━━━━━━━━━━━━━━━━━━\u001b[0m\u001b[37m\u001b[0m \u001b[1m11s\u001b[0m 137ms/step - accuracy: 0.8268 - loss: 0.2469 - val_accuracy: 0.8244 - val_loss: 0.2339\n",
            "Epoch 10/20\n",
            "\u001b[1m83/83\u001b[0m \u001b[32m━━━━━━━━━━━━━━━━━━━━\u001b[0m\u001b[37m\u001b[0m \u001b[1m20s\u001b[0m 129ms/step - accuracy: 0.8400 - loss: 0.2190 - val_accuracy: 0.8283 - val_loss: 0.2442\n",
            "Epoch 11/20\n",
            "\u001b[1m83/83\u001b[0m \u001b[32m━━━━━━━━━━━━━━━━━━━━\u001b[0m\u001b[37m\u001b[0m \u001b[1m20s\u001b[0m 130ms/step - accuracy: 0.8348 - loss: 0.2222 - val_accuracy: 0.8172 - val_loss: 0.2634\n",
            "Epoch 12/20\n",
            "\u001b[1m83/83\u001b[0m \u001b[32m━━━━━━━━━━━━━━━━━━━━\u001b[0m\u001b[37m\u001b[0m \u001b[1m21s\u001b[0m 138ms/step - accuracy: 0.8405 - loss: 0.2099 - val_accuracy: 0.8431 - val_loss: 0.2055\n",
            "Epoch 13/20\n",
            "\u001b[1m83/83\u001b[0m \u001b[32m━━━━━━━━━━━━━━━━━━━━\u001b[0m\u001b[37m\u001b[0m \u001b[1m20s\u001b[0m 137ms/step - accuracy: 0.8476 - loss: 0.1882 - val_accuracy: 0.8484 - val_loss: 0.1977\n",
            "Epoch 14/20\n",
            "\u001b[1m83/83\u001b[0m \u001b[32m━━━━━━━━━━━━━━━━━━━━\u001b[0m\u001b[37m\u001b[0m \u001b[1m20s\u001b[0m 130ms/step - accuracy: 0.8495 - loss: 0.1807 - val_accuracy: 0.8472 - val_loss: 0.2050\n",
            "Epoch 15/20\n",
            "\u001b[1m83/83\u001b[0m \u001b[32m━━━━━━━━━━━━━━━━━━━━\u001b[0m\u001b[37m\u001b[0m \u001b[1m11s\u001b[0m 138ms/step - accuracy: 0.8512 - loss: 0.1798 - val_accuracy: 0.8302 - val_loss: 0.2130\n",
            "Epoch 16/20\n",
            "\u001b[1m83/83\u001b[0m \u001b[32m━━━━━━━━━━━━━━━━━━━━\u001b[0m\u001b[37m\u001b[0m \u001b[1m20s\u001b[0m 130ms/step - accuracy: 0.8432 - loss: 0.1879 - val_accuracy: 0.8536 - val_loss: 0.1757\n",
            "Epoch 17/20\n",
            "\u001b[1m83/83\u001b[0m \u001b[32m━━━━━━━━━━━━━━━━━━━━\u001b[0m\u001b[37m\u001b[0m \u001b[1m11s\u001b[0m 130ms/step - accuracy: 0.8609 - loss: 0.1671 - val_accuracy: 0.8500 - val_loss: 0.1833\n",
            "Epoch 18/20\n",
            "\u001b[1m83/83\u001b[0m \u001b[32m━━━━━━━━━━━━━━━━━━━━\u001b[0m\u001b[37m\u001b[0m \u001b[1m11s\u001b[0m 130ms/step - accuracy: 0.8552 - loss: 0.1657 - val_accuracy: 0.8475 - val_loss: 0.1852\n",
            "Epoch 19/20\n",
            "\u001b[1m83/83\u001b[0m \u001b[32m━━━━━━━━━━━━━━━━━━━━\u001b[0m\u001b[37m\u001b[0m \u001b[1m20s\u001b[0m 129ms/step - accuracy: 0.8512 - loss: 0.1731 - val_accuracy: 0.8498 - val_loss: 0.1744\n",
            "Epoch 20/20\n",
            "\u001b[1m83/83\u001b[0m \u001b[32m━━━━━━━━━━━━━━━━━━━━\u001b[0m\u001b[37m\u001b[0m \u001b[1m21s\u001b[0m 130ms/step - accuracy: 0.8501 - loss: 0.1718 - val_accuracy: 0.8491 - val_loss: 0.1795\n",
            "Training with num_filters=64, epochs=20, batch_size=16\n",
            "Epoch 1/20\n",
            "\u001b[1m166/166\u001b[0m \u001b[32m━━━━━━━━━━━━━━━━━━━━\u001b[0m\u001b[37m\u001b[0m \u001b[1m97s\u001b[0m 381ms/step - accuracy: 0.6719 - loss: 0.6644 - val_accuracy: 0.7944 - val_loss: 0.3048\n",
            "Epoch 2/20\n",
            "\u001b[1m166/166\u001b[0m \u001b[32m━━━━━━━━━━━━━━━━━━━━\u001b[0m\u001b[37m\u001b[0m \u001b[1m79s\u001b[0m 181ms/step - accuracy: 0.7953 - loss: 0.3218 - val_accuracy: 0.8083 - val_loss: 0.2825\n",
            "Epoch 3/20\n",
            "\u001b[1m166/166\u001b[0m \u001b[32m━━━━━━━━━━━━━━━━━━━━\u001b[0m\u001b[37m\u001b[0m \u001b[1m31s\u001b[0m 186ms/step - accuracy: 0.8216 - loss: 0.2600 - val_accuracy: 0.8008 - val_loss: 0.2762\n",
            "Epoch 4/20\n",
            "\u001b[1m166/166\u001b[0m \u001b[32m━━━━━━━━━━━━━━━━━━━━\u001b[0m\u001b[37m\u001b[0m \u001b[1m40s\u001b[0m 183ms/step - accuracy: 0.8162 - loss: 0.2672 - val_accuracy: 0.8315 - val_loss: 0.2415\n",
            "Epoch 5/20\n",
            "\u001b[1m166/166\u001b[0m \u001b[32m━━━━━━━━━━━━━━━━━━━━\u001b[0m\u001b[37m\u001b[0m \u001b[1m31s\u001b[0m 186ms/step - accuracy: 0.8237 - loss: 0.2540 - val_accuracy: 0.8279 - val_loss: 0.2430\n",
            "Epoch 6/20\n",
            "\u001b[1m166/166\u001b[0m \u001b[32m━━━━━━━━━━━━━━━━━━━━\u001b[0m\u001b[37m\u001b[0m \u001b[1m40s\u001b[0m 178ms/step - accuracy: 0.8268 - loss: 0.2456 - val_accuracy: 0.8380 - val_loss: 0.2445\n",
            "Epoch 7/20\n",
            "\u001b[1m166/166\u001b[0m \u001b[32m━━━━━━━━━━━━━━━━━━━━\u001b[0m\u001b[37m\u001b[0m \u001b[1m42s\u001b[0m 181ms/step - accuracy: 0.8291 - loss: 0.2377 - val_accuracy: 0.8126 - val_loss: 0.2823\n",
            "Training with num_filters=64, epochs=20, batch_size=32\n",
            "Epoch 1/20\n",
            "\u001b[1m83/83\u001b[0m \u001b[32m━━━━━━━━━━━━━━━━━━━━\u001b[0m\u001b[37m\u001b[0m \u001b[1m137s\u001b[0m 1s/step - accuracy: 0.6623 - loss: 1.1637 - val_accuracy: 0.8137 - val_loss: 0.2794\n",
            "Epoch 2/20\n",
            "\u001b[1m83/83\u001b[0m \u001b[32m━━━━━━━━━━━━━━━━━━━━\u001b[0m\u001b[37m\u001b[0m \u001b[1m37s\u001b[0m 346ms/step - accuracy: 0.7861 - loss: 0.3458 - val_accuracy: 0.8147 - val_loss: 0.2777\n",
            "Epoch 3/20\n",
            "\u001b[1m83/83\u001b[0m \u001b[32m━━━━━━━━━━━━━━━━━━━━\u001b[0m\u001b[37m\u001b[0m \u001b[1m29s\u001b[0m 348ms/step - accuracy: 0.8243 - loss: 0.2609 - val_accuracy: 0.8309 - val_loss: 0.2516\n",
            "Epoch 4/20\n",
            "\u001b[1m83/83\u001b[0m \u001b[32m━━━━━━━━━━━━━━━━━━━━\u001b[0m\u001b[37m\u001b[0m \u001b[1m41s\u001b[0m 353ms/step - accuracy: 0.8234 - loss: 0.2551 - val_accuracy: 0.8298 - val_loss: 0.2381\n",
            "Epoch 5/20\n",
            "\u001b[1m83/83\u001b[0m \u001b[32m━━━━━━━━━━━━━━━━━━━━\u001b[0m\u001b[37m\u001b[0m \u001b[1m41s\u001b[0m 352ms/step - accuracy: 0.8148 - loss: 0.2717 - val_accuracy: 0.8149 - val_loss: 0.2760\n",
            "Epoch 6/20\n",
            "\u001b[1m83/83\u001b[0m \u001b[32m━━━━━━━━━━━━━━━━━━━━\u001b[0m\u001b[37m\u001b[0m \u001b[1m41s\u001b[0m 353ms/step - accuracy: 0.8198 - loss: 0.2607 - val_accuracy: 0.8297 - val_loss: 0.2330\n",
            "Epoch 7/20\n",
            "\u001b[1m83/83\u001b[0m \u001b[32m━━━━━━━━━━━━━━━━━━━━\u001b[0m\u001b[37m\u001b[0m \u001b[1m41s\u001b[0m 350ms/step - accuracy: 0.8221 - loss: 0.2518 - val_accuracy: 0.8197 - val_loss: 0.2504\n",
            "Epoch 8/20\n",
            "\u001b[1m83/83\u001b[0m \u001b[32m━━━━━━━━━━━━━━━━━━━━\u001b[0m\u001b[37m\u001b[0m \u001b[1m41s\u001b[0m 348ms/step - accuracy: 0.8262 - loss: 0.2371 - val_accuracy: 0.8316 - val_loss: 0.2280\n",
            "Epoch 9/20\n",
            "\u001b[1m83/83\u001b[0m \u001b[32m━━━━━━━━━━━━━━━━━━━━\u001b[0m\u001b[37m\u001b[0m \u001b[1m29s\u001b[0m 349ms/step - accuracy: 0.8279 - loss: 0.2397 - val_accuracy: 0.8178 - val_loss: 0.2465\n",
            "Epoch 10/20\n",
            "\u001b[1m83/83\u001b[0m \u001b[32m━━━━━━━━━━━━━━━━━━━━\u001b[0m\u001b[37m\u001b[0m \u001b[1m41s\u001b[0m 354ms/step - accuracy: 0.8281 - loss: 0.2255 - val_accuracy: 0.8364 - val_loss: 0.2084\n",
            "Epoch 11/20\n",
            "\u001b[1m83/83\u001b[0m \u001b[32m━━━━━━━━━━━━━━━━━━━━\u001b[0m\u001b[37m\u001b[0m \u001b[1m41s\u001b[0m 352ms/step - accuracy: 0.8451 - loss: 0.2052 - val_accuracy: 0.8333 - val_loss: 0.2282\n",
            "Epoch 12/20\n",
            "\u001b[1m83/83\u001b[0m \u001b[32m━━━━━━━━━━━━━━━━━━━━\u001b[0m\u001b[37m\u001b[0m \u001b[1m41s\u001b[0m 356ms/step - accuracy: 0.8403 - loss: 0.2097 - val_accuracy: 0.8328 - val_loss: 0.2244\n",
            "Epoch 13/20\n",
            "\u001b[1m83/83\u001b[0m \u001b[32m━━━━━━━━━━━━━━━━━━━━\u001b[0m\u001b[37m\u001b[0m \u001b[1m40s\u001b[0m 348ms/step - accuracy: 0.8272 - loss: 0.2398 - val_accuracy: 0.8149 - val_loss: 0.2638\n",
            "Training with num_filters=128, epochs=20, batch_size=16\n",
            "Epoch 1/20\n",
            "\u001b[1m166/166\u001b[0m \u001b[32m━━━━━━━━━━━━━━━━━━━━\u001b[0m\u001b[37m\u001b[0m \u001b[1m229s\u001b[0m 968ms/step - accuracy: 0.7061 - loss: 0.5411 - val_accuracy: 0.8137 - val_loss: 0.2844\n",
            "Epoch 2/20\n",
            "\u001b[1m166/166\u001b[0m \u001b[32m━━━━━━━━━━━━━━━━━━━━\u001b[0m\u001b[37m\u001b[0m \u001b[1m129s\u001b[0m 557ms/step - accuracy: 0.8092 - loss: 0.2840 - val_accuracy: 0.8328 - val_loss: 0.2707\n",
            "Epoch 3/20\n",
            "\u001b[1m166/166\u001b[0m \u001b[32m━━━━━━━━━━━━━━━━━━━━\u001b[0m\u001b[37m\u001b[0m \u001b[1m142s\u001b[0m 556ms/step - accuracy: 0.8143 - loss: 0.2817 - val_accuracy: 0.8107 - val_loss: 0.2942\n",
            "Epoch 4/20\n",
            "\u001b[1m166/166\u001b[0m \u001b[32m━━━━━━━━━━━━━━━━━━━━\u001b[0m\u001b[37m\u001b[0m \u001b[1m147s\u001b[0m 588ms/step - accuracy: 0.8281 - loss: 0.2464 - val_accuracy: 0.8300 - val_loss: 0.2336\n",
            "Epoch 5/20\n",
            "\u001b[1m166/166\u001b[0m \u001b[32m━━━━━━━━━━━━━━━━━━━━\u001b[0m\u001b[37m\u001b[0m \u001b[1m137s\u001b[0m 557ms/step - accuracy: 0.8249 - loss: 0.2438 - val_accuracy: 0.8248 - val_loss: 0.3177\n",
            "Epoch 6/20\n",
            "\u001b[1m166/166\u001b[0m \u001b[32m━━━━━━━━━━━━━━━━━━━━\u001b[0m\u001b[37m\u001b[0m \u001b[1m97s\u001b[0m 584ms/step - accuracy: 0.8128 - loss: 0.2719 - val_accuracy: 0.8093 - val_loss: 0.2798\n",
            "Epoch 7/20\n",
            "\u001b[1m166/166\u001b[0m \u001b[32m━━━━━━━━━━━━━━━━━━━━\u001b[0m\u001b[37m\u001b[0m \u001b[1m141s\u001b[0m 580ms/step - accuracy: 0.8010 - loss: 0.3153 - val_accuracy: 0.8126 - val_loss: 0.2703\n",
            "Training with num_filters=128, epochs=20, batch_size=32\n",
            "Epoch 1/20\n",
            "\u001b[1m83/83\u001b[0m \u001b[32m━━━━━━━━━━━━━━━━━━━━\u001b[0m\u001b[37m\u001b[0m \u001b[1m356s\u001b[0m 3s/step - accuracy: 0.6676 - loss: 0.5779 - val_accuracy: 0.7797 - val_loss: 0.3286\n",
            "Epoch 2/20\n",
            "\u001b[1m83/83\u001b[0m \u001b[32m━━━━━━━━━━━━━━━━━━━━\u001b[0m\u001b[37m\u001b[0m \u001b[1m127s\u001b[0m 1s/step - accuracy: 0.7827 - loss: 0.3390 - val_accuracy: 0.8119 - val_loss: 0.3613\n",
            "Epoch 3/20\n",
            "\u001b[1m83/83\u001b[0m \u001b[32m━━━━━━━━━━━━━━━━━━━━\u001b[0m\u001b[37m\u001b[0m \u001b[1m98s\u001b[0m 1s/step - accuracy: 0.8053 - loss: 0.3064 - val_accuracy: 0.8165 - val_loss: 0.2703\n",
            "Epoch 4/20\n",
            "\u001b[1m83/83\u001b[0m \u001b[32m━━━━━━━━━━━━━━━━━━━━\u001b[0m\u001b[37m\u001b[0m \u001b[1m142s\u001b[0m 1s/step - accuracy: 0.8251 - loss: 0.2550 - val_accuracy: 0.8311 - val_loss: 0.2390\n",
            "Epoch 5/20\n",
            "\u001b[1m83/83\u001b[0m \u001b[32m━━━━━━━━━━━━━━━━━━━━\u001b[0m\u001b[37m\u001b[0m \u001b[1m142s\u001b[0m 1s/step - accuracy: 0.8381 - loss: 0.2304 - val_accuracy: 0.8385 - val_loss: 0.2483\n",
            "Epoch 6/20\n",
            "\u001b[1m83/83\u001b[0m \u001b[32m━━━━━━━━━━━━━━━━━━━━\u001b[0m\u001b[37m\u001b[0m \u001b[1m137s\u001b[0m 1s/step - accuracy: 0.8353 - loss: 0.2384 - val_accuracy: 0.8008 - val_loss: 0.2964\n",
            "Epoch 7/20\n",
            "\u001b[1m83/83\u001b[0m \u001b[32m━━━━━━━━━━━━━━━━━━━━\u001b[0m\u001b[37m\u001b[0m \u001b[1m142s\u001b[0m 1s/step - accuracy: 0.8204 - loss: 0.2630 - val_accuracy: 0.8363 - val_loss: 0.2312\n",
            "Epoch 8/20\n",
            "\u001b[1m83/83\u001b[0m \u001b[32m━━━━━━━━━━━━━━━━━━━━\u001b[0m\u001b[37m\u001b[0m \u001b[1m142s\u001b[0m 1s/step - accuracy: 0.8330 - loss: 0.2341 - val_accuracy: 0.8420 - val_loss: 0.2277\n",
            "Epoch 9/20\n",
            "\u001b[1m83/83\u001b[0m \u001b[32m━━━━━━━━━━━━━━━━━━━━\u001b[0m\u001b[37m\u001b[0m \u001b[1m97s\u001b[0m 1s/step - accuracy: 0.8375 - loss: 0.2250 - val_accuracy: 0.8252 - val_loss: 0.2364\n",
            "Epoch 10/20\n",
            "\u001b[1m83/83\u001b[0m \u001b[32m━━━━━━━━━━━━━━━━━━━━\u001b[0m\u001b[37m\u001b[0m \u001b[1m142s\u001b[0m 1s/step - accuracy: 0.8352 - loss: 0.2225 - val_accuracy: 0.8266 - val_loss: 0.2336\n",
            "Epoch 11/20\n",
            "\u001b[1m83/83\u001b[0m \u001b[32m━━━━━━━━━━━━━━━━━━━━\u001b[0m\u001b[37m\u001b[0m \u001b[1m142s\u001b[0m 1s/step - accuracy: 0.8376 - loss: 0.2239 - val_accuracy: 0.8329 - val_loss: 0.2251\n",
            "Epoch 12/20\n",
            "\u001b[1m83/83\u001b[0m \u001b[32m━━━━━━━━━━━━━━━━━━━━\u001b[0m\u001b[37m\u001b[0m \u001b[1m142s\u001b[0m 1s/step - accuracy: 0.8391 - loss: 0.2193 - val_accuracy: 0.8402 - val_loss: 0.2152\n",
            "Epoch 13/20\n",
            "\u001b[1m83/83\u001b[0m \u001b[32m━━━━━━━━━━━━━━━━━━━━\u001b[0m\u001b[37m\u001b[0m \u001b[1m136s\u001b[0m 1s/step - accuracy: 0.8344 - loss: 0.2170 - val_accuracy: 0.8351 - val_loss: 0.2375\n",
            "Epoch 14/20\n",
            "\u001b[1m83/83\u001b[0m \u001b[32m━━━━━━━━━━━━━━━━━━━━\u001b[0m\u001b[37m\u001b[0m \u001b[1m138s\u001b[0m 1s/step - accuracy: 0.8325 - loss: 0.2339 - val_accuracy: 0.8286 - val_loss: 0.2427\n",
            "Epoch 15/20\n",
            "\u001b[1m83/83\u001b[0m \u001b[32m━━━━━━━━━━━━━━━━━━━━\u001b[0m\u001b[37m\u001b[0m \u001b[1m146s\u001b[0m 1s/step - accuracy: 0.8371 - loss: 0.2160 - val_accuracy: 0.8353 - val_loss: 0.2192\n"
          ]
        }
      ],
      "source": [
        "param_dist = {\n",
        "    'num_filters': [32, 64, 128],\n",
        "    'epochs': [20],\n",
        "    'batch_size': [16, 32],\n",
        "}\n",
        "best_model = None\n",
        "best_val_loss = float('inf')  # Initialize with a very high value\n",
        "\n",
        "# Iterate through parameters and train the model\n",
        "for num_filters in param_dist['num_filters']:\n",
        "    for epochs in param_dist['epochs']:\n",
        "        for batch_size in param_dist['batch_size']:\n",
        "            print(f\"Training with num_filters={num_filters}, epochs={epochs}, batch_size={batch_size}\")\n",
        "            model = segnet((128,128,3),num_filters=num_filters)\n",
        "            early_stopping = EarlyStopping(monitor='val_loss', patience=3, restore_best_weights=True)\n",
        "\n",
        "            # Fit the model and capture the history\n",
        "            history = model.fit(X_train, y_train, validation_data=(X_val, y_val),\n",
        "                                epochs=epochs, batch_size=batch_size, callbacks=[early_stopping])\n",
        "\n",
        "            # Check the validation loss\n",
        "            val_loss = min(history.history['val_loss'])  # Get the best validation loss\n",
        "\n",
        "            # Save the best model based on validation loss\n",
        "            if val_loss < best_val_loss:\n",
        "                best_val_loss = val_loss\n",
        "                best_model = model  # Update the best model\n"
      ]
    },
    {
      "cell_type": "code",
      "execution_count": 9,
      "metadata": {
        "colab": {
          "base_uri": "https://localhost:8080/",
          "height": 487
        },
        "id": "vEp82NDSwZFb",
        "outputId": "4e52b6ae-a035-47c7-e575-04d86f04fbab"
      },
      "outputs": [
        {
          "data": {
            "image/png": "[encoded data removed]",
            "text/plain": [
              "<Figure size 1200x500 with 2 Axes>"
            ]
          },
          "metadata": {},
          "output_type": "display_data"
        }
      ],
      "source": [
        "import matplotlib.pyplot as plt\n",
        "\n",
        "plt.figure(figsize=(12, 5))\n",
        "\n",
        "# Plot the last training history for the best model\n",
        "plt.subplot(1, 2, 1)\n",
        "plt.plot(history.history['loss'], label='Train Loss')\n",
        "plt.plot(history.history['val_loss'], label='Validation Loss')\n",
        "plt.title('Model Loss')\n",
        "plt.ylabel('Loss')\n",
        "plt.xlabel('Epoch')\n",
        "plt.legend()\n",
        "\n",
        "plt.subplot(1, 2, 2)\n",
        "plt.plot(history.history['accuracy'], label='Train Accuracy')\n",
        "plt.plot(history.history['val_accuracy'], label='Validation Accuracy')\n",
        "plt.title('Model Accuracy')\n",
        "plt.ylabel('Accuracy')\n",
        "plt.xlabel('Epoch')\n",
        "plt.legend()\n",
        "\n",
        "plt.show()"
      ]
    },
    {
      "cell_type": "code",
      "execution_count": 10,
      "metadata": {
        "id": "-FHLrHxS0bJl"
      },
      "outputs": [],
      "source": [
        "from sklearn.metrics import adjusted_rand_score\n",
        "\n",
        "def rand_index(y_true, y_pred):\n",
        "    # Flatten the arrays if necessary\n",
        "    y_true = np.array(y_true).flatten()\n",
        "    y_pred = np.array(y_pred).flatten()\n",
        "    y_pred = (y_pred > 0.5).astype(int)\n",
        "\n",
        "    # Calculate Adjusted Rand Index using scikit-learn\n",
        "    ari = adjusted_rand_score(y_true, y_pred)\n",
        "    return ari\n",
        "from sklearn.metrics import cohen_kappa_score\n",
        "\n",
        "def cohen_kappa(y_true, y_pred):\n",
        "    # Flatten the arrays if necessary\n",
        "    y_true = np.array(y_true).flatten()\n",
        "    y_pred = np.array(y_pred).flatten()\n",
        "    y_pred = (y_pred > 0.5).astype(int)\n",
        "\n",
        "    # Calculate Cohen's Kappa using scikit-learn\n",
        "    kappa = cohen_kappa_score(y_true, y_pred)\n",
        "    return kappa\n"
      ]
    },
    {
      "cell_type": "code",
      "execution_count": 13,
      "metadata": {
        "colab": {
          "base_uri": "https://localhost:8080/"
        },
        "id": "aGN5hNCS2kLo",
        "outputId": "bf7fe7d4-479b-4ec4-bf43-088c2ce03482"
      },
      "outputs": [
        {
          "name": "stdout",
          "output_type": "stream",
          "text": [
            "\u001b[1m21/21\u001b[0m \u001b[32m━━━━━━━━━━━━━━━━━━━━\u001b[0m\u001b[37m\u001b[0m \u001b[1m1s\u001b[0m 33ms/step\n",
            "Jaccard Coefficient (IoU): 0.8997621953107611\n",
            "Dice Coefficient : 0.9472366568107004\n",
            "Cohen's Kappa  : 0.8162837541287117\n"
          ]
        },
        {
          "name": "stderr",
          "output_type": "stream",
          "text": [
            "/usr/local/lib/python3.10/dist-packages/sklearn/metrics/cluster/_supervised.py:66: UserWarning: Clustering metrics expects discrete values but received continuous values for label, and binary values for target\n",
            "  warnings.warn(msg, UserWarning)\n"
          ]
        },
        {
          "name": "stdout",
          "output_type": "stream",
          "text": [
            "Rand index  : 0.6102785118842285\n"
          ]
        }
      ],
      "source": [
        "# Predict on validation set\n",
        "y_pred_val = best_model.predict(X_val)\n",
        "# Calculate Jaccard coefficient (IoU)\n",
        "jaccard_score = jaccard_coef(y_val, y_pred_val)\n",
        "print(f\"Jaccard Coefficient (IoU): {jaccard_score}\")\n",
        "dice_Score=dice_coef(y_val,y_pred_val)\n",
        "print(f\"Dice Coefficient : {dice_Score}\")\n",
        "cohens=cohen_kappa(y_val,y_pred_val)\n",
        "print(f\"Cohen's Kappa  : {cohens}\")\n",
        "rand=rand_index(y_val,y_pred_val)\n",
        "print(f\"Rand index  : {rand}\")\n"
      ]
    },
    {
      "cell_type": "code",
      "execution_count": 18,
      "metadata": {
        "colab": {
          "base_uri": "https://localhost:8080/"
        },
        "id": "PcxjYDbdXKj-",
        "outputId": "98801cef-e408-4c05-9663-865e5a31ec3a"
      },
      "outputs": [
        {
          "name": "stderr",
          "output_type": "stream",
          "text": [
            "WARNING:absl:You are saving your model as an HDF5 file via `model.save()` or `keras.saving.save_model(model)`. This file format is considered legacy. We recommend using instead the native Keras format, e.g. `model.save('my_model.keras')` or `keras.saving.save_model(model, 'my_model.keras')`. \n"
          ]
        },
        {
          "name": "stdout",
          "output_type": "stream",
          "text": [
            "Model saved successfully!\n"
          ]
        }
      ],
      "source": [
        "best_model.save('/content/drive/MyDrive/best_model_Grid_hehehe.h5')  # Save the model to Google Drive or any desired directory\n",
        "\n",
        "print(\"Model saved successfully!\")"
      ]
    }
  ],
  "metadata": {
    "accelerator": "GPU",
    "colab": {
      "gpuType": "T4",
      "provenance": []
    },
    "kernelspec": {
      "display_name": "Python 3",
      "name": "python3"
    },
    "language_info": {
      "name": "python"
    }
  },
  "nbformat": 4,
  "nbformat_minor": 0
}
